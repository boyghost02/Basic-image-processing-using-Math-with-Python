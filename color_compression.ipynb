{
 "cells": [
  {
   "cell_type": "markdown",
   "metadata": {},
   "source": [
    "## Project 1"
   ]
  },
  {
   "cell_type": "markdown",
   "metadata": {},
   "source": [
    "### Yêu cầu :"
   ]
  },
  {
   "cell_type": "markdown",
   "metadata": {},
   "source": [
    "Cài đặt chương trình giảm số lượng màu cho ảnh sử dụng thuật toán K-Means Clustering"
   ]
  },
  {
   "cell_type": "code",
   "execution_count": null,
   "metadata": {},
   "outputs": [],
   "source": [
    "import numpy as np\n",
    "import matplotlib.pyplot as plt\n",
    "from PIL import Image"
   ]
  },
  {
   "cell_type": "markdown",
   "metadata": {},
   "source": [
    "## Thuật toán K-means Clustering\n",
    " - Khởi tạo k centroids\n",
    " - Phân cụm từng pixel dựa vào các centroid\n",
    " - Cập nhật các centroids mới dựa vào các pixels của cluster thuộc centroid cũ\n",
    " - Lặp lại việc phân cụm và cập nhật centroids mới đến khi đạt kết quả hội tụ"
   ]
  },
  {
   "cell_type": "code",
   "execution_count": null,
   "metadata": {},
   "outputs": [],
   "source": [
    "def KmeansClustering(image, k_clusters, max_iter = 1000, init_centroids = 'random'):\n",
    "    centroids = initCentroids(image, k_clusters, init_centroids)\n",
    "    labels = np.full(image.shape[0], -1)\n",
    "    for i in range(max_iter):\n",
    "        labels = assignLabelToPixels(image, centroids)\n",
    "        old_centroids = centroids\n",
    "        centroids = updateNewCentroids(image, labels, centroids.shape)\n",
    "        # Kiểm tra đạt kết quả hội tụ chưa\n",
    "        if np.allclose(old_centroids, centroids, rtol = 10e-3, equal_nan=False):\n",
    "            break\n",
    "    return centroids, labels\n",
    "        "
   ]
  },
  {
   "cell_type": "markdown",
   "metadata": {},
   "source": [
    "## Cài đặt thuật toán : "
   ]
  },
  {
   "cell_type": "markdown",
   "metadata": {},
   "source": [
    "### Khởi tạo Centroids\n",
    "Dùng hàm choise để chọn ngẫu nhiên các centroid\n",
    " - in_pixels : chọn ngẫu nhiên trong các pixel của ảnh\n",
    " - random : chọn ngẫu nhiên trong khoảng [0,255]"
   ]
  },
  {
   "cell_type": "code",
   "execution_count": null,
   "metadata": {},
   "outputs": [],
   "source": [
    "def initCentroids(image, k_clusters, type):\n",
    "    if type == 'in_pixels':\n",
    "        return image[np.random.choice(image.shape[0], k_clusters, replace=False)]\n",
    "    elif type == 'random':\n",
    "        return np.random.choice(256, (k_clusters, image.shape[1]), replace=False)\n",
    "    else:\n",
    "        return None"
   ]
  },
  {
   "cell_type": "markdown",
   "metadata": {},
   "source": [
    "### Phân cụm - gán label cho các pixel gần centroid nhất\n",
    "Trả về index của centroid gần các pixel đó nhất"
   ]
  },
  {
   "cell_type": "code",
   "execution_count": null,
   "metadata": {},
   "outputs": [],
   "source": [
    "def assignLabelToPixels(image, centroids):\n",
    "    return np.argmin(np.linalg.norm(image - centroids[:, None], axis=2), axis=0)"
   ]
  },
  {
   "cell_type": "markdown",
   "metadata": {},
   "source": [
    "### Cập nhật các centroids mới bằng trung bình của các pixels thuộc cluster của centroid cũ"
   ]
  },
  {
   "cell_type": "code",
   "execution_count": null,
   "metadata": {},
   "outputs": [],
   "source": [
    "def updateNewCentroids(image, labels, oldCentroids):\n",
    "    centroids = np.zeros(oldCentroids)\n",
    "    for i in range(oldCentroids[0]):\n",
    "        pixels = image[labels == i]\n",
    "        if pixels.shape[0]:\n",
    "            centroids[i] = np.mean(pixels, axis=0)\n",
    "    return centroids"
   ]
  },
  {
   "cell_type": "markdown",
   "metadata": {},
   "source": [
    "## Hàm main"
   ]
  },
  {
   "cell_type": "code",
   "execution_count": null,
   "metadata": {},
   "outputs": [],
   "source": [
    "if __name__ == '__main__':  \n",
    "    filename = input('Nhập tên file ảnh : ')\n",
    "    image = np.array(Image.open(filename))\n",
    "    image_1d_array = image.reshape(image.shape[0] * image.shape[1], image.shape[2])\n",
    "    kClusters = int(input('Nhập số lượng cluster : (Chỉ nhập số nguyên dương) '))\n",
    "    #chọn đuôi file đầu ra, chọn 1 trong 2, nhập đến khi chọn đúng\n",
    "    outputExtension = 0\n",
    "    while (outputExtension != 1 and outputExtension != 2):\n",
    "        outputExtension = int(input('Lựa chọn đầu ra : 1. png - 2. pdf : '))\n",
    "        \n",
    "    centroids, labels = KmeansClustering(image_1d_array, kClusters, max_iter = 1000, init_centroids='in_pixels')\n",
    "    newImage = (centroids[labels].astype(np.uint8)).reshape(image.shape)\n",
    "    \n",
    "    Image.fromarray(newImage.astype(np.uint8)).save(filename.split('.')[0] + '-k' + str(kClusters) + ('.png' if outputExtension == 1 else '.pdf'))"
   ]
  },
  {
   "cell_type": "code",
   "execution_count": null,
   "metadata": {},
   "outputs": [],
   "source": [
    "    print('Ảnh lúc đầu : ')\n",
    "    plt.imshow(image)"
   ]
  },
  {
   "cell_type": "code",
   "execution_count": null,
   "metadata": {},
   "outputs": [],
   "source": [
    "    print('Ảnh sau giảm số lượng màu')\n",
    "    plt.imshow(newImage)"
   ]
  }
 ],
 "metadata": {
  "kernelspec": {
   "display_name": "Python 3.10.4 64-bit",
   "language": "python",
   "name": "python3"
  },
  "language_info": {
   "codemirror_mode": {
    "name": "ipython",
    "version": 3
   },
   "file_extension": ".py",
   "mimetype": "text/x-python",
   "name": "python",
   "nbconvert_exporter": "python",
   "pygments_lexer": "ipython3",
   "version": "3.10.4"
  },
  "orig_nbformat": 4,
  "vscode": {
   "interpreter": {
    "hash": "9d0f38c43e833695b71bf06e08ff2bbe0083618b070f508638a70326306b0377"
   }
  }
 },
 "nbformat": 4,
 "nbformat_minor": 2
}
