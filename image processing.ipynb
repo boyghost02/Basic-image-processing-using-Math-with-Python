{
 "cells": [
  {
   "cell_type": "markdown",
   "metadata": {},
   "source": [
    "## Yêu cầu"
   ]
  },
  {
   "cell_type": "markdown",
   "metadata": {},
   "source": [
    "### Thực hiện các chức năng xử lý ảnh cơ bản :\n",
    "    - Thay đổi độ sáng cho ảnh \n",
    "    - Thay đổi độ tương phản cho ảnh\n",
    "    - Lật ảnh (ngang - dọc)\n",
    "    - Chuyển đổi ảnh RGB thành ảnh xám\n",
    "    - Chồng 2 ảnh cùng kích thước\n",
    "    - Làm mờ ảnh\n",
    "    - Cắt ảnh theo khung\n",
    "    - Viết hàm main"
   ]
  },
  {
   "cell_type": "code",
   "execution_count": null,
   "metadata": {},
   "outputs": [],
   "source": [
    "import numpy as np\n",
    "from PIL import Image\n",
    "import matplotlib.pyplot as plt"
   ]
  },
  {
   "cell_type": "markdown",
   "metadata": {},
   "source": [
    "#### Thay đổi độ sáng : \n",
    "Cộng/Trừ các điểm ảnh với một số alpha"
   ]
  },
  {
   "cell_type": "code",
   "execution_count": null,
   "metadata": {},
   "outputs": [],
   "source": [
    "def Brightness(image, alpha = 100):\n",
    "    return np.clip(image * 1.0 + alpha, 0, 255)"
   ]
  },
  {
   "cell_type": "markdown",
   "metadata": {},
   "source": [
    "#### Thay đổi độ tương phản : \n",
    "Nhân các điểm ảnh với hệ số tương phản theo công thức R'= F(R - 128) + 128"
   ]
  },
  {
   "cell_type": "code",
   "execution_count": null,
   "metadata": {},
   "outputs": [],
   "source": [
    "def Contrast(image, alpha = 100):\n",
    "    return np.clip(128 + (259 * (alpha + 255)) / (255 * (259 - alpha)) * (image * 1.0 - 128), 0, 255)"
   ]
  },
  {
   "cell_type": "markdown",
   "metadata": {},
   "source": [
    "#### Lật Ảnh\n",
    "    - Lật ngang : đảo ngược thứ tự các hàng đối xứng theo trục 0 (trên/dưới)\n",
    "    - Lật dọc : đảo ngược thứ tự các cột đối xứng theo trục 1 (trái/phải)"
   ]
  },
  {
   "cell_type": "code",
   "execution_count": null,
   "metadata": {},
   "outputs": [],
   "source": [
    "def Flip(image, type):\n",
    "    if type == 'vertical':\n",
    "        return np.flipud(image)\n",
    "    if type == 'horizontal':\n",
    "        return np.fliplr(image)"
   ]
  },
  {
   "cell_type": "markdown",
   "metadata": {},
   "source": [
    "#### Chuyển ảnh RGB thành ảnh xám\n",
    "    - average : lấy giá trị trung bình của ba màu (R+G+B)/3\n",
    "    - weight : giảm Red, tăng Green, thêm Blue theo trọng số ((0.3*R) + (0.59*G) + (0.11*B))"
   ]
  },
  {
   "cell_type": "code",
   "execution_count": null,
   "metadata": {},
   "outputs": [],
   "source": [
    "def Grayscale(image, type = 'weight'):\n",
    "    image_2d = image.reshape(image.shape[0] * image.shape[1], image.shape[2])\n",
    "    if type == 'average':\n",
    "        newImage = (image_2d[:, 0] * 1.0 + image_2d[:, 1] * 1.0 + image_2d[:, 2] * 1.0) / 3\n",
    "    if type == 'weight':\n",
    "        newImage = 0.3 * image_2d[:, 0] + 0.59 * image_2d[:, 1] + 0.11 * image_2d[:, 2]\n",
    "    newImage = newImage.reshape(image.shape[0], image.shape[1], 1)\n",
    "    newImage = np.dstack((newImage,newImage,newImage))\n",
    "    return newImage"
   ]
  },
  {
   "cell_type": "markdown",
   "metadata": {},
   "source": [
    "#### Chồng 2 ảnh cùng kích thước\n",
    "Chuyển đổi 2 ảnh về ảnh xám sau đó cộng lại với nhau (mỗi tấm ảnh lấy 1 nửa trên dải màu)"
   ]
  },
  {
   "cell_type": "code",
   "execution_count": null,
   "metadata": {},
   "outputs": [],
   "source": [
    "def Merge(image1, image2):\n",
    "    img1 = Grayscale(image1)\n",
    "    img2 = Grayscale(image2)\n",
    "    return img1 * 0.5 + img2 * 0.5"
   ]
  },
  {
   "cell_type": "markdown",
   "metadata": {},
   "source": [
    "#### Làm mờ ảnh\n",
    "Dùng Box Blur"
   ]
  },
  {
   "cell_type": "code",
   "execution_count": null,
   "metadata": {},
   "outputs": [],
   "source": [
    "def Blur(image):\n",
    "    newImage = image.copy()\n",
    "    for x in range (1, image.shape[0] - 1):\n",
    "        for y in range (1, image.shape[1] -1):\n",
    "            newImage[x,y] = (image[x - 1, y + 1] * 1.0 + image[x + 0, y + 1] * 1.0 + image[x + 1, y + 1] * 1.0 + image[x - 1, y + 0] * 1.0 + image[x + 0, y + 0] * 1.0 + image[x + 1, y + 0] * 1.0 + image[x - 1, y - 1] * 1.0 + image[x + 0, y - 1] * 1.0 + image[x + 1, y - 1]) / 9.0\n",
    "    return newImage"
   ]
  },
  {
   "cell_type": "markdown",
   "metadata": {},
   "source": [
    "#### Cắt ảnh\n",
    "    - Theo hình tròn : đường kính hình tròn = min(chiều dài ảnh, chiều rộng ảnh), những điểm ảnh nằm ngoài hình tròn chuyển về màu đen\n",
    "    - Theo 2 hình ellipes"
   ]
  },
  {
   "cell_type": "code",
   "execution_count": null,
   "metadata": {},
   "outputs": [],
   "source": [
    "def Crop(image, type = 'circle'):\n",
    "    newImage = image.copy()\n",
    "    if (type == 'Circle'):\n",
    "        for i in range(image.shape[0]):\n",
    "            for j in range(image.shape[1]):\n",
    "                if pow((i - (image.shape[0]) / 2), 2) + pow((j - (image.shape[1]) / 2), 2) > pow((min(image.shape[0], image.shape[1])) / 2, 2):\n",
    "                    newImage[i,j] = 0\n",
    "    if (type == 'DoubleEllipes'):\n",
    "        a = pow(image.shape[0]*0.395,2)\n",
    "        b = pow(image.shape[1]*0.605,2)\n",
    "        cos45 = np.cos(np.pi/4)\n",
    "        sin45 = np.sin(np.pi/4)\n",
    "        for i in range(image.shape[0]):\n",
    "            for j in range(image.shape[1]):\n",
    "                x = i - image.shape[0]/2\n",
    "                y = j - image.shape[1]/2\n",
    "                if pow((x*cos45 + y*sin45),2)/a + pow((x*cos45 - y*sin45),2)/b > 1 and pow((x*cos45 - y*sin45),2)/a + pow((x*cos45 + y*sin45),2)/b > 1:\n",
    "                    newImage[i,j] = 0\n",
    "    return newImage\n"
   ]
  },
  {
   "cell_type": "code",
   "execution_count": null,
   "metadata": {},
   "outputs": [],
   "source": [
    "def ExportImage(newImage, function, filename, filename2 = None, type = None):\n",
    "    if function == 1:\n",
    "        Image.fromarray(newImage.astype(np.uint8)).save(filename.split('.')[0] + '_Brightness' + '.png')\n",
    "    elif function == 2:\n",
    "        Image.fromarray(newImage.astype(np.uint8)).save(filename.split('.')[0] + '_Contrast' + '.png')\n",
    "    elif function == 3:\n",
    "        Image.fromarray(newImage.astype(np.uint8)).save(filename.split('.')[0] + '_' + type + '_Flip' + '.png')\n",
    "    elif function == 4:\n",
    "        Image.fromarray(newImage.astype(np.uint8)).save(filename.split('.')[0] + '_Grayscale' + '.png')\n",
    "    elif function == 5:\n",
    "        Image.fromarray(newImagde.astype(np.uint8)).save(filename.split('.')[0] + '_' + filename2.split('.')[0] + '_Merge' + '.png')\n",
    "    elif function == 6:\n",
    "        Image.fromarray(newImage.astype(np.uint8)).save(filename.split('.')[0] + '_Blur' + '.png')\n",
    "    elif function == 7:\n",
    "        Image.fromarray(newImage.astype(np.uint8)).save(filename.split('.')[0] + '_' + type + '_Crop' + '.png')"
   ]
  },
  {
   "cell_type": "markdown",
   "metadata": {},
   "source": [
    "### Hàm main"
   ]
  },
  {
   "cell_type": "code",
   "execution_count": null,
   "metadata": {},
   "outputs": [],
   "source": [
    "if __name__ == '__main__':  \n",
    "    filename = input('Nhập tên file ảnh : ')\n",
    "    image = np.array(Image.open(filename))\n",
    "    selectFunction = -1\n",
    "    while (selectFunction < 0 or selectFunction > 7):        \n",
    "        selectFunction = int(input('0. Chạy hết\\n1. Thay đổi độ sáng cho ảnh\\n2. Thay đổi độ tương phản\\n3. Lật ảnh\\n4. Chuyển đổi ảnh RGB thành ảnh xám\\n5. Chồng 2 ảnh cùng kích thước\\n6. Làm mờ ảnh\\n7. Cắt khung cho ảnh'))\n",
    "    if selectFunction == 0:\n",
    "        filename2 = input('Nhập tên file ảnh 2 : ')\n",
    "        image2 = np.array(Image.open(filename2))\n",
    "        newImage = Brightness(image, 100)\n",
    "        ExportImage(newImage, 1, filename)\n",
    "        newImage = Contrast(image, -100)\n",
    "        ExportImage(newImage, 2, filename)\n",
    "        newImage = Flip(image, 'vertical')\n",
    "        ExportImage(newImage, 3, filename, type = 'vertical')\n",
    "        newImage = Flip(image, 'horizontal')\n",
    "        ExportImage(newImage, 3, filename, type = 'horizontal')\n",
    "        newImage = Grayscale(image, 'weight')\n",
    "        ExportImage(newImage, 4, filename)\n",
    "        newImage = Merge(image, image2)\n",
    "        ExportImage(newImage, 5, filename, filename2)\n",
    "        newImage = Blur(image)\n",
    "        ExportImage(newImage, 6, filename)\n",
    "        newImage = Crop(image, 'Circle')\n",
    "        ExportImage(newImage, 7, filename, type = 'Circle')\n",
    "        newImage = Crop(image, 'DoubleEllipes')\n",
    "        ExportImage(newImage, 7, filename, type = 'DoubleEllipes')\n",
    "    elif selectFunction == 1:\n",
    "        newImage = Brightness(image, 100)\n",
    "        ExportImage(newImage, 1, filename)\n",
    "    elif selectFunction == 2:\n",
    "        newImage = Contrast(image, -100)\n",
    "        ExportImage(newImage, 2, filename)\n",
    "    elif selectFunction == 3:\n",
    "        moreExtension = 0\n",
    "        while (moreExtension != 1 and moreExtension !=2):\n",
    "            moreExtension = int(input('Lựa chọn chiều lật ảnh : 1. Lật Ngang - 2. Lật Dọc'))\n",
    "        if moreExtension == 1:\n",
    "            type = 'vertical'\n",
    "        else:\n",
    "            type = 'horizontal'\n",
    "        newImage = Flip(image, type)\n",
    "        ExportImage(newImage, 3, filename, type = type)\n",
    "    elif selectFunction == 4:\n",
    "        newImage = Grayscale(image, 'weight')\n",
    "        ExportImage(newImage, 4, filename)\n",
    "    elif selectFunction == 5:\n",
    "        filename2 = input('Nhập tên file ảnh 2 : ')\n",
    "        image2 = np.array(Image.open(filename2))\n",
    "        newImage = Merge(image, image2)\n",
    "        ExportImage(newImage, 5, filename, filename2)\n",
    "    elif selectFunction == 6:\n",
    "        newImage = Blur(image)\n",
    "        ExportImage(newImage, 6, filename)\n",
    "    elif selectFunction == 7:\n",
    "        moreExtension = 0\n",
    "        while (moreExtension != 1 and moreExtension !=2):\n",
    "            moreExtension = int(input('Lựa chọn khung muốn cắt : 1. Khung tròn - 2. Khung 2 elip chéo nhau'))\n",
    "        if moreExtension == 1:\n",
    "            type = 'Circle'\n",
    "        else:\n",
    "            type = 'DoubleEllipes'\n",
    "        newImage = Crop(image, type)\n",
    "        ExportImage(newImage, 7, filename, type = type)"
   ]
  },
  {
   "cell_type": "code",
   "execution_count": null,
   "metadata": {},
   "outputs": [],
   "source": [
    "    print('Ảnh lúc đầu : ')\n",
    "    plt.imshow(image)"
   ]
  },
  {
   "cell_type": "code",
   "execution_count": null,
   "metadata": {},
   "outputs": [],
   "source": [
    "    print('Ảnh sau xử lý')\n",
    "    plt.imshow(newImage.astype(np.uint8))"
   ]
  }
 ],
 "metadata": {
  "kernelspec": {
   "display_name": "Python 3.10.4 64-bit",
   "language": "python",
   "name": "python3"
  },
  "language_info": {
   "codemirror_mode": {
    "name": "ipython",
    "version": 3
   },
   "file_extension": ".py",
   "mimetype": "text/x-python",
   "name": "python",
   "nbconvert_exporter": "python",
   "pygments_lexer": "ipython3",
   "version": "3.10.4"
  },
  "orig_nbformat": 4,
  "vscode": {
   "interpreter": {
    "hash": "9d0f38c43e833695b71bf06e08ff2bbe0083618b070f508638a70326306b0377"
   }
  }
 },
 "nbformat": 4,
 "nbformat_minor": 2
}
