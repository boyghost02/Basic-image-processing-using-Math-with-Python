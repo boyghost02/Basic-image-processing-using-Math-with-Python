{
 "cells": [
  {
   "cell_type": "markdown",
   "metadata": {},
   "source": [
    "# Import"
   ]
  },
  {
   "cell_type": "code",
   "execution_count": 1,
   "metadata": {},
   "outputs": [],
   "source": [
    "import pandas as pd\n",
    "import numpy as np\n",
    "import sklearn\n",
    "from sklearn import *\n",
    "# Import thêm dữ thư viện nếu cần"
   ]
  },
  {
   "cell_type": "markdown",
   "metadata": {},
   "source": [
    "# Đọc dữ liệu"
   ]
  },
  {
   "cell_type": "code",
   "execution_count": 2,
   "metadata": {},
   "outputs": [],
   "source": [
    "# Đọc dữ liệu bằng pandas\n",
    "train = pd.read_csv('train.csv')\n",
    "test = pd.read_csv('test.csv')\n",
    "\n",
    "# Lấy các đặc trưng X và giá trị mục tiêu y cho các tập huấn luyện (train) và kiểm tra (test)\n",
    "X_train = train.iloc[:, :-1]    # Dataframe (chứa 10 đặc trưng huấn luyện)\n",
    "Y_train = train.iloc[:, -1]     # Series    (chứa 1 giá trị mục tiêu kiểm tra)\n",
    "\n",
    "X_test = test.iloc[:, :-1]      # Dataframe (chứa 10 đặc trưng kiểm tra)\n",
    "Y_test = test.iloc[:, -1]       # Series    (chứa 1 giá trị mục tiêu kiểm tra)\n",
    "# Sinh viên có thể sử dụng các khác nếu cần"
   ]
  },
  {
   "cell_type": "markdown",
   "metadata": {},
   "source": [
    "# Cài đặt hàm"
   ]
  },
  {
   "cell_type": "code",
   "execution_count": 3,
   "metadata": {},
   "outputs": [],
   "source": [
    "# Cài đặt các hàm cần thiết ở đây\n",
    "class OLSLinearRegression:\n",
    "    def fit(self, X, y):\n",
    "        X_pinv = np.linalg.inv(X.T @ X) @ X.T    # np.linalg.pinv(X)\n",
    "        self.w = X_pinv @ y\n",
    "        return self\n",
    "    def get_params(self):\n",
    "        return self.w\n",
    "    def predict(self, X):\n",
    "        return np.sum(self.w.ravel() * X, axis=1)  \n",
    "\n",
    "def RMSE(test,pred):\n",
    "    return np.sqrt(sklearn.metrics.mean_squared_error(test, pred))\n",
    "\n",
    "def CrossValidation_5Fold(X_train_clone, Y_train_clone):\n",
    "    rmse = 0\n",
    "    for train_index, test_index in sklearn.model_selection.KFold(n_splits = 5, shuffle = True).split(X_train_clone):\n",
    "        X_train_feature, X_values, Y_train_feature, Y_values = X_train_clone[train_index], X_train_clone[test_index], Y_train_clone[train_index], Y_train_clone[test_index]\n",
    "        lr.fit(X_train_feature, Y_train_feature)\n",
    "        rmse += RMSE(Y_values, lr.predict(X_values))\n",
    "    return rmse/5\n",
    "\n",
    "def get_feature_index(paradigm,name):\n",
    "    for i in range(len(paradigm.columns.values)):\n",
    "        if name == paradigm.columns.values[i]:\n",
    "            return i\n",
    "\n",
    "def new_paradigm_with_avg_2_best_feature(best_feature, second_feature, best_feature_name, second_feature_name):\n",
    "    return pd.Series((best_feature+second_feature)/2, name='Avg ' + best_feature_name + ' and ' + second_feature_name)\n",
    "\n",
    "def new_paradigm_with_sum_of_sqrt_2_best_feature(best_feature, second_feature, best_feature_name, second_feature_name):\n",
    "    return pd.Series(np.sqrt(best_feature) + np.sqrt(second_feature), name='Sum of sqrt ' + best_feature_name + ' and ' + second_feature_name)\n",
    "\n",
    "def new_paradigm_with_sum_of_root4_2_best_feature(best_feature, second_feature, best_feature_name, second_feature_name):\n",
    "    return pd.Series(best_feature**(1/4) + second_feature**(1/4), name='Sum of root4 ' + best_feature_name + ' and ' + second_feature_name)\n",
    "\n",
    "def new_paradigm_with_thinness_age_5_19(train, test):\n",
    "    fea1_train = X_train.copy().to_numpy()[:,get_feature_index(train, 'Thinness age 10-19')]\n",
    "    fea2_train = X_train.copy().to_numpy()[:,get_feature_index(train, 'Thinness age 5-9')]\n",
    "    fea1_test = X_test.copy().to_numpy()[:,get_feature_index(test, 'Thinness age 10-19')]\n",
    "    fea2_test = X_test.copy().to_numpy()[:,get_feature_index(test, 'Thinness age 5-9')] \n",
    "    return train.join(pd.Series((fea1_train+fea2_train)/2,name = 'Thinness age 5-19')), test.join(pd.Series((fea1_test+fea2_test)/2,name = 'Thinness age 5-19'))\n",
    "\n",
    "def Model_Thinnes_Age_5_19(X_train, X_test):\n",
    "    new_X_train, new_X_test = new_paradigm_with_thinness_age_5_19(X_train,X_test)\n",
    "    del new_X_train['Thinness age 5-9']\n",
    "    del new_X_test['Thinness age 5-9']\n",
    "    del new_X_train['Thinness age 10-19']\n",
    "    del new_X_test['Thinness age 10-19']\n",
    "    return new_X_train, new_X_test\n",
    "\n",
    "def Model_Avg_2_best_feature(X_train, X_test):\n",
    "    best_feature_name = sorted(LifeExpectancyRMSE, key=lambda row:(row[1]))[0][0]\n",
    "    second_feature_name = sorted(LifeExpectancyRMSE, key=lambda row:(row[1]))[1][0]\n",
    "    best_feature_train = X_train.copy().to_numpy()[:,get_feature_index(X_train, best_feature_name)]\n",
    "    second_feature_train = X_train.copy().to_numpy()[:,get_feature_index(X_train, second_feature_name)]\n",
    "    best_feature_test = X_test.copy().to_numpy()[:,get_feature_index(X_test, best_feature_name)]\n",
    "    second_feature_test = X_test.copy().to_numpy()[:,get_feature_index(X_test, second_feature_name)]\n",
    "    new_X_train = X_train.join(new_paradigm_with_avg_2_best_feature(best_feature_train, second_feature_train, best_feature_name, second_feature_name))\n",
    "    new_X_test = X_test.join(new_paradigm_with_avg_2_best_feature(best_feature_test, second_feature_test, best_feature_name, second_feature_name))\n",
    "    del new_X_train[best_feature_name]\n",
    "    del new_X_test[best_feature_name]\n",
    "    del new_X_train[second_feature_name]\n",
    "    del new_X_test[second_feature_name]\n",
    "    return new_X_train, new_X_test\n",
    "\n",
    "def Model_Sum_Of_Sqrt_2_best_feature(X_train, X_test):\n",
    "    best_feature_name = sorted(LifeExpectancyRMSE, key=lambda row:(row[1]))[0][0]\n",
    "    second_feature_name = sorted(LifeExpectancyRMSE, key=lambda row:(row[1]))[1][0]\n",
    "    best_feature_train = X_train.copy().to_numpy()[:,get_feature_index(X_train, best_feature_name)]\n",
    "    second_feature_train = X_train.copy().to_numpy()[:,get_feature_index(X_train, second_feature_name)]\n",
    "    best_feature_test = X_test.copy().to_numpy()[:,get_feature_index(X_test, best_feature_name)]\n",
    "    second_feature_test = X_test.copy().to_numpy()[:,get_feature_index(X_test, second_feature_name)]\n",
    "    new_X_train = X_train.join(new_paradigm_with_sum_of_sqrt_2_best_feature(best_feature_train, second_feature_train, best_feature_name, second_feature_name))\n",
    "    new_X_test = X_test.join(new_paradigm_with_sum_of_sqrt_2_best_feature(best_feature_test, second_feature_test, best_feature_name, second_feature_name))\n",
    "    del new_X_train[best_feature_name]\n",
    "    del new_X_test[best_feature_name]\n",
    "    del new_X_train[second_feature_name]\n",
    "    del new_X_test[second_feature_name]\n",
    "    return new_X_train, new_X_test\n",
    "\n",
    "def Model_Sum_Of_Root4_2_best_feature(X_train, X_test):\n",
    "    best_feature_name = sorted(LifeExpectancyRMSE, key=lambda row:(row[1]))[0][0]\n",
    "    second_feature_name = sorted(LifeExpectancyRMSE, key=lambda row:(row[1]))[1][0]\n",
    "    best_feature_train = X_train.copy().to_numpy()[:,get_feature_index(X_train, best_feature_name)]\n",
    "    second_feature_train = X_train.copy().to_numpy()[:,get_feature_index(X_train, second_feature_name)]\n",
    "    best_feature_test = X_test.copy().to_numpy()[:,get_feature_index(X_test, best_feature_name)]\n",
    "    second_feature_test = X_test.copy().to_numpy()[:,get_feature_index(X_test, second_feature_name)]\n",
    "    new_X_train = X_train.join(new_paradigm_with_sum_of_root4_2_best_feature(best_feature_train, second_feature_train, best_feature_name, second_feature_name))\n",
    "    new_X_test = X_test.join(new_paradigm_with_sum_of_root4_2_best_feature(best_feature_test, second_feature_test, best_feature_name, second_feature_name))\n",
    "    del new_X_train[best_feature_name]\n",
    "    del new_X_test[best_feature_name]\n",
    "    del new_X_train[second_feature_name]\n",
    "    del new_X_test[second_feature_name]\n",
    "    return new_X_train, new_X_test\n",
    "\n",
    "def Model_Sqrt_2_best_feature(X_train, X_test):\n",
    "    best_feature_name = sorted(LifeExpectancyRMSE, key=lambda row:(row[1]))[0][0]\n",
    "    second_feature_name = sorted(LifeExpectancyRMSE, key=lambda row:(row[1]))[1][0]\n",
    "    best_feature_train = X_train.copy().to_numpy()[:,get_feature_index(X_train, best_feature_name)]\n",
    "    second_feature_train = X_train.copy().to_numpy()[:,get_feature_index(X_train, second_feature_name)]\n",
    "    best_feature_test = X_test.copy().to_numpy()[:,get_feature_index(X_test, best_feature_name)]\n",
    "    second_feature_test = X_test.copy().to_numpy()[:,get_feature_index(X_test, second_feature_name)]\n",
    "    train_fea = pd.DataFrame(np.sqrt(best_feature_train) + np.sqrt(second_feature_train))\n",
    "    test_fea = pd.DataFrame(np.sqrt(best_feature_test) + np.sqrt(second_feature_test))\n",
    "    return train_fea, test_fea\n",
    "\n",
    "def Model_Root4_2_best_feature(X_train, X_test):\n",
    "    best_feature_name = sorted(LifeExpectancyRMSE, key=lambda row:(row[1]))[0][0]\n",
    "    second_feature_name = sorted(LifeExpectancyRMSE, key=lambda row:(row[1]))[1][0]\n",
    "    X_train.iloc[:,get_feature_index(X_train, best_feature_name)] = X_train.iloc[:,get_feature_index(X_train, best_feature_name)]**(1/4)\n",
    "    X_train.iloc[:,get_feature_index(X_train, second_feature_name)] = X_train.iloc[:,get_feature_index(X_train, second_feature_name)]**(1/4)\n",
    "    X_test.iloc[:,get_feature_index(X_test, best_feature_name)] = X_test.iloc[:,get_feature_index(X_test, best_feature_name)]**(1/4)\n",
    "    X_test.iloc[:,get_feature_index(X_test, second_feature_name)] = X_test.iloc[:,get_feature_index(X_test, second_feature_name)]**(1/4)\n",
    "    return X_train, X_test\n",
    "\n",
    "def create_new_data(X_train, X_test):\n",
    "    new_train_data = []\n",
    "    new_test_data = []\n",
    "    train_temp, test_temp = Model_Thinnes_Age_5_19(X_train.copy(), X_test.copy())\n",
    "    new_train_data.append(['Thinnes age 5-19',train_temp])\n",
    "    new_test_data.append(['Thinnes age 5-19',test_temp])\n",
    "    train_temp, test_temp = Model_Avg_2_best_feature(X_train.copy(), X_test.copy())\n",
    "    new_train_data.append(['Avg 2 best feature',train_temp])\n",
    "    new_test_data.append(['Avg 2 best feature',test_temp])\n",
    "    train_temp, test_temp = Model_Sum_Of_Sqrt_2_best_feature(X_train.copy(), X_test.copy())\n",
    "    new_train_data.append(['Sum of sqrt 2 best feature',train_temp])\n",
    "    new_test_data.append(['Sum of sqrt 2 best feature',test_temp])\n",
    "    train_temp, test_temp = Model_Root4_2_best_feature(X_train.copy(), X_test.copy())\n",
    "    new_train_data.append(['Root4 2 best feature',train_temp])\n",
    "    new_test_data.append(['Root4 2 best feature',test_temp])\n",
    "    train_temp, test_temp = Model_Sum_Of_Root4_2_best_feature(X_train.copy(), X_test.copy())\n",
    "    new_train_data.append(['Sum of Root4 2 best feature',train_temp])\n",
    "    new_test_data.append(['Sum of Root4 2 best feature',test_temp])\n",
    "    train_temp, test_temp = Model_Sqrt_2_best_feature(X_train.copy(), X_test.copy())\n",
    "    new_train_data.append(['Sqrt 2 best feature',train_temp])\n",
    "    new_test_data.append(['Sqrt 2 best feature',test_temp])\n",
    "    return new_train_data, new_test_data"
   ]
  },
  {
   "cell_type": "markdown",
   "metadata": {},
   "source": [
    "# Yêu cầu 1a: Sử dụng toàn bộ 10 đặc trưng đề bài cung cấp (2 điểm) "
   ]
  },
  {
   "cell_type": "code",
   "execution_count": 4,
   "metadata": {},
   "outputs": [
    {
     "name": "stdout",
     "output_type": "stream",
     "text": [
      "w0  =  0.01510136273529735\n",
      "w1  =  0.09021998065778095\n",
      "w2  =  0.04292181752549854\n",
      "w3  =  0.13928911689488005\n",
      "w4  =  -0.5673328270882102\n",
      "w5  =  -0.00010076511487489814\n",
      "w6  =  0.7407134377587482\n",
      "w7  =  0.19093579767394017\n",
      "w8  =  24.50597359115195\n",
      "w9  =  2.393516607832661\n"
     ]
    }
   ],
   "source": [
    "# Phần code cho yêu cầu 1a\n",
    "lr = OLSLinearRegression().fit(X_train, Y_train)\n",
    "for i in range(len(lr.get_params())):\n",
    "    print('w' + str(i), ' = ', lr.get_params()[i])"
   ]
  },
  {
   "cell_type": "code",
   "execution_count": 5,
   "metadata": {},
   "outputs": [
    {
     "name": "stdout",
     "output_type": "stream",
     "text": [
      "RMSE :  7.064046430584209\n"
     ]
    }
   ],
   "source": [
    "# Gọi hàm RMSE (tự cài đặt hoặc từ thư viện) trên tập kiểm tra\n",
    "rmse_a = RMSE(Y_test,lr.predict(X_test))\n",
    "print('RMSE : ', rmse_a)"
   ]
  },
  {
   "cell_type": "markdown",
   "metadata": {},
   "source": [
    "Công thức hồi quy\n",
    "\n",
    "$$\\text{Life expectancy} = $$\n",
    "$w0(\\text{Adult Mortality}) + w1(\\text{BMI}) + w2(\\text{Polio}) + w3(\\text{Diphtheria}) + w4(\\text{HIV/AIDS}) + w5(\\text{GDP}) + w6(\\text{Thinness age 10-19}) + w7(\\text{Thinness age 5-9}) + w8(\\text{Income composition of resources}) + w9(\\text{Schooling})$"
   ]
  },
  {
   "cell_type": "markdown",
   "metadata": {},
   "source": [
    "# Yêu cầu 1b: Xây dựng mô hình sử dụng duy nhất 1 đặc trưng, tìm mô hình cho kết quả tốt nhất (2 điểm)"
   ]
  },
  {
   "cell_type": "markdown",
   "metadata": {},
   "source": [
    "Lưu ý: khi sử dụng cross-validation, sinh viên cần xáo trộn dữ liệu 1 lần duy nhất và thực hiện trên toàn bộ đặc trưng"
   ]
  },
  {
   "cell_type": "code",
   "execution_count": 6,
   "metadata": {},
   "outputs": [
    {
     "name": "stdout",
     "output_type": "stream",
     "text": [
      "Đặc trưng tốt nhất :  Schooling\n",
      "Vị trí đặc trưng tốt nhất :  9\n",
      "                         Đặc trưng       RMSE\n",
      "0                  Adult Mortality  46.206149\n",
      "1                              BMI  27.958758\n",
      "2                            Polio  17.935279\n",
      "3                       Diphtheria  16.019921\n",
      "4                         HIV/AIDS  67.058772\n",
      "5                              GDP  60.188389\n",
      "6               Thinness age 10-19  51.866769\n",
      "7                 Thinness age 5-9  51.754931\n",
      "8  Income composition of resources  13.210230\n",
      "9                        Schooling  11.765080\n"
     ]
    }
   ],
   "source": [
    "# Phần code cho yêu cầu 1b\n",
    "# Tìm ra đặc trưng tốt nhất\n",
    "# In ra các kết quả cross-validation như yêu cầu\n",
    "LifeExpectancyRMSE = []\n",
    "for i in range(len(X_train.columns)):\n",
    "    LifeExpectancyRMSE.append([X_train.columns.values[i], CrossValidation_5Fold(X_train.copy().to_numpy()[:,i:i+1], Y_train.copy().to_numpy())])\n",
    "best_feature_name = sorted(LifeExpectancyRMSE, key=lambda row:(row[1]))[0][0]\n",
    "best_feature_index = get_feature_index(X_train,best_feature_name)\n",
    "print('Đặc trưng tốt nhất : ', best_feature_name)\n",
    "print('Vị trí đặc trưng tốt nhất : ', best_feature_index)\n",
    "print(pd.DataFrame(LifeExpectancyRMSE, columns= ['Đặc trưng', 'RMSE']))"
   ]
  },
  {
   "cell_type": "code",
   "execution_count": 7,
   "metadata": {},
   "outputs": [
    {
     "name": "stdout",
     "output_type": "stream",
     "text": [
      "w = \n",
      "[5.5573994]\n"
     ]
    }
   ],
   "source": [
    "# Huấn luyện lại mô hình best_feature_model với đặc trưng tốt nhất trên toàn bộ tập huấn luyện\n",
    "X_train_best_feature = X_train.copy().to_numpy()[:,best_feature_index:best_feature_index+1]\n",
    "lr.fit(X_train_best_feature, Y_train.copy().to_numpy())\n",
    "print('w = ')\n",
    "print(lr.get_params())"
   ]
  },
  {
   "cell_type": "code",
   "execution_count": 8,
   "metadata": {},
   "outputs": [
    {
     "name": "stdout",
     "output_type": "stream",
     "text": [
      "RMSE :  10.26095039165537\n"
     ]
    }
   ],
   "source": [
    "# Gọi hàm RMSE (tự cài đặt hoặc từ thư viện) trên tập kiểm tra với mô hình best_feature_model\n",
    "rmse_b = RMSE(Y_test, lr.predict(X_test.copy().to_numpy()[:,best_feature_index:best_feature_index+1]))\n",
    "print('RMSE : ', rmse_b)"
   ]
  },
  {
   "cell_type": "markdown",
   "metadata": {},
   "source": [
    "Công thức hồi quy\n",
    "\n",
    "$$\\text{Life expectancy} = w * Schooling$$"
   ]
  },
  {
   "cell_type": "markdown",
   "metadata": {},
   "source": [
    "# Yêu cầu 1c: Sinh viên tự xây dựng mô hình, tìm mô hình cho kết quả tốt nhất (3 điểm)"
   ]
  },
  {
   "cell_type": "markdown",
   "metadata": {},
   "source": [
    "Lưu ý: khi sử dụng cross-validation, sinh viên cần xáo trộn dữ liệu 1 lần duy nhất và thực hiện trên toàn bộ $m$ mô hình mà sinh viên thiết kế"
   ]
  },
  {
   "cell_type": "code",
   "execution_count": 9,
   "metadata": {},
   "outputs": [],
   "source": [
    "def CrossFold(X_train_clone, Y_train_clone):\n",
    "    rmse = 0\n",
    "    for train_index, test_index in sklearn.model_selection.KFold(n_splits = 5, shuffle = True).split(X_train_clone):\n",
    "        X_train_feature, X_values, Y_train_feature, Y_values = X_train_clone[train_index], X_train_clone[test_index], Y_train_clone[train_index], Y_train_clone[test_index]\n",
    "        lr.fit(X_train_feature, Y_train_feature)\n",
    "        rmse += RMSE(Y_values, lr.predict(X_values))\n",
    "    return rmse/5"
   ]
  },
  {
   "cell_type": "code",
   "execution_count": 10,
   "metadata": {},
   "outputs": [
    {
     "name": "stdout",
     "output_type": "stream",
     "text": [
      "                       Mô hình      RMSE\n",
      "0             Thinnes age 5-19  7.914910\n",
      "1           Avg 2 best feature  8.105618\n",
      "2   Sum of sqrt 2 best feature  5.213554\n",
      "3         Root4 2 best feature  3.985899\n",
      "4  Sum of Root4 2 best feature  4.694251\n",
      "5          Sqrt 2 best feature  6.180251\n",
      "6                Default model  7.898711\n",
      "Mô hình tốt nhất :  Root4 2 best feature\n"
     ]
    }
   ],
   "source": [
    "# Phần code cho yêu cầu 1c\n",
    "# Tìm ra mô hình tốt nhất (tự thiết kế bởi sinh viên)\n",
    "# In ra các kết quả cross-validation như yêu cầu\n",
    "new_train_data, new_test_data = create_new_data(X_train.copy(), X_test.copy())\n",
    "NewLifeExpectancyRMSE = []\n",
    "new_train_data.append(['Default model',X_train])\n",
    "for i in range(len(new_train_data)):\n",
    "    NewLifeExpectancyRMSE.append([new_train_data[i][0], CrossValidation_5Fold(new_train_data.copy()[i][1].to_numpy(), Y_train.copy().to_numpy())])\n",
    "name = sorted(NewLifeExpectancyRMSE, key=lambda row:(row[1]))[0][0]\n",
    "print(pd.DataFrame(NewLifeExpectancyRMSE, columns= ['Mô hình', 'RMSE']))\n",
    "print('Mô hình tốt nhất : ', name)"
   ]
  },
  {
   "cell_type": "code",
   "execution_count": 11,
   "metadata": {},
   "outputs": [
    {
     "name": "stdout",
     "output_type": "stream",
     "text": [
      "w0  =  -0.015185742427712211\n",
      "w1  =  0.044602692927739336\n",
      "w2  =  -7.399559271062484e-05\n",
      "w3  =  0.027189499305987894\n",
      "w4  =  -0.5640320061653871\n",
      "w5  =  7.296053152205728e-05\n",
      "w6  =  0.006811567455989593\n",
      "w7  =  -0.052223045830113834\n",
      "w8  =  3.8381257883199464\n",
      "w9  =  35.210322828085786\n"
     ]
    }
   ],
   "source": [
    "# Huấn luyện lại mô hình my_best_model trên toàn bộ tập huấn luyện\n",
    "index = 0\n",
    "for i in range(len(new_train_data)):\n",
    "    if (new_train_data[i][0] == name):\n",
    "        index = i\n",
    "        break\n",
    "X_train_my_best_model = new_train_data.copy()[index][1].to_numpy()\n",
    "lr.fit(X_train_my_best_model, Y_train.copy().to_numpy())\n",
    "for i in range(len(lr.get_params())):\n",
    "    print('w' + str(i), ' = ', lr.get_params()[i])"
   ]
  },
  {
   "cell_type": "code",
   "execution_count": 12,
   "metadata": {},
   "outputs": [
    {
     "name": "stdout",
     "output_type": "stream",
     "text": [
      "RMSE :  3.870607190322188\n"
     ]
    }
   ],
   "source": [
    "# Gọi hàm RMSE (tự cài đặt hoặc từ thư viện) trên tập kiểm tra với mô hình my_best_model\n",
    "rmse_c = RMSE(Y_test, lr.predict(new_test_data.copy()[index][1].to_numpy()))\n",
    "print('RMSE : ', rmse_c)"
   ]
  },
  {
   "cell_type": "markdown",
   "metadata": {},
   "source": [
    "Công thức hồi quy\n",
    "\n",
    "$$\\text{Life expectancy} = $$\n",
    "$w0(\\text{Adult Mortality}) + w1(\\text{BMI}) + w2(\\text{Polio}) + w3(\\text{Diphtheria}) + w4(\\text{HIV/AIDS}) + w5(\\text{GDP}) + w6(\\text{Thinness age 10-19}) + w7(\\text{Thinness age 5-9}) + w8\\sqrt[4]{(\\text{Income composition of resources})} + w9\\sqrt[4]{(\\text{Schooling})}$"
   ]
  }
 ],
 "metadata": {
  "kernelspec": {
   "display_name": "Python 3.10.4 64-bit",
   "language": "python",
   "name": "python3"
  },
  "language_info": {
   "codemirror_mode": {
    "name": "ipython",
    "version": 3
   },
   "file_extension": ".py",
   "mimetype": "text/x-python",
   "name": "python",
   "nbconvert_exporter": "python",
   "pygments_lexer": "ipython3",
   "version": "3.10.5"
  },
  "orig_nbformat": 4,
  "vscode": {
   "interpreter": {
    "hash": "9d0f38c43e833695b71bf06e08ff2bbe0083618b070f508638a70326306b0377"
   }
  }
 },
 "nbformat": 4,
 "nbformat_minor": 2
}
